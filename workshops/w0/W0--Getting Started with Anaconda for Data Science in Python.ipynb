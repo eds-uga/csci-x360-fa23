{
 "cells": [
  {
   "cell_type": "markdown",
   "metadata": {},
   "source": [
    "# Preliminaries"
   ]
  },
  {
   "cell_type": "markdown",
   "metadata": {},
   "source": [
    "Assuming either\n",
    "\n",
    " - Linux (Ubuntu)\n",
    " - macOS\n",
    " \n",
    "though Windows is still doable; the parts about the `PATH` variables may or may not be relevant."
   ]
  },
  {
   "cell_type": "markdown",
   "metadata": {},
   "source": [
    "### If you are using Windows\n",
    "\n",
    "You have two options:\n",
    " 1. Windows Subsystem for Linux (WSL) https://learn.microsoft.com/en-us/windows/wsl/install\n",
    " 2. Graphical Anaconda install (outside the scope of this workshop)"
   ]
  },
  {
   "cell_type": "markdown",
   "metadata": {},
   "source": [
    "# Part 1: Installing Anaconda"
   ]
  },
  {
   "cell_type": "markdown",
   "metadata": {},
   "source": [
    "Anaconda is an incredibly popular Python distribution platform. It's the product of (aptly-named) [Anaconda](https://www.anaconda.com/), and is effectively the *de facto* way to interact with the Python ecosystem at this point."
   ]
  },
  {
   "cell_type": "markdown",
   "metadata": {},
   "source": [
    "(*Translation: Use Anaconda for installing Python. **DO NOT USE** [python.org](http://python.org) unless you are super comfortable with micromanaging your Python install and the packages you download*)"
   ]
  },
  {
   "cell_type": "markdown",
   "metadata": {},
   "source": [
    "Installing Anaconda is easy enough: navigate to this link https://www.anaconda.com/download"
   ]
  },
  {
   "cell_type": "markdown",
   "metadata": {},
   "source": [
    "The website will auto-detect your operating system and present you with the relevant downloads (but of course you can pick another if you want).\n",
    "\n",
    "Since I do pretty much everything by command line these days (and Jupyter notebooks provide a direct interface to the command line!), I'll go with the Linux version of the installer (but again, the Windows `exe` and macOS `pkg` will provide a GUI installer if you really want it)."
   ]
  },
  {
   "cell_type": "markdown",
   "metadata": {},
   "source": [
    "![installer_download](images/installer_download2.png)"
   ]
  },
  {
   "cell_type": "code",
   "execution_count": 1,
   "metadata": {},
   "outputs": [
    {
     "name": "stdout",
     "output_type": "stream",
     "text": [
      "--2023-08-14 13:52:10--  https://repo.anaconda.com/archive/Anaconda3-2023.07-2-MacOSX-x86_64.sh\n",
      "Resolving repo.anaconda.com (repo.anaconda.com)... 104.16.130.3, 104.16.131.3, 2606:4700::6810:8203, ...\n",
      "Connecting to repo.anaconda.com (repo.anaconda.com)|104.16.130.3|:443... connected.\n",
      "HTTP request sent, awaiting response... 200 OK\n",
      "Length: 641855956 (612M) [application/x-sh]\n",
      "Saving to: ‘Anaconda3-2023.07-2-MacOSX-x86_64.sh’\n",
      "\n",
      "Anaconda3-2023.07-2 100%[===================>] 612.12M  24.1MB/s    in 28s     \n",
      "\n",
      "2023-08-14 13:52:38 (22.1 MB/s) - ‘Anaconda3-2023.07-2-MacOSX-x86_64.sh’ saved [641855956/641855956]\n",
      "\n"
     ]
    }
   ],
   "source": [
    "# Step 1: right-click the \"download\" link on the left\n",
    "\n",
    "# Step 2: select \"copy link address\"\n",
    "\n",
    "# Step 3: paste the link into the following bash command, after \"wget\"\n",
    "\n",
    "!wget https://repo.anaconda.com/archive/Anaconda3-2023.07-2-MacOSX-x86_64.sh"
   ]
  },
  {
   "cell_type": "markdown",
   "metadata": {},
   "source": [
    "The download takes awhile; it's a big distribution!"
   ]
  },
  {
   "cell_type": "markdown",
   "metadata": {},
   "source": [
    "Once it's downloaded, all you have to provide is an install prefix, i.e. where you want this Python install to live on your computer.\n",
    "\n",
    " - I like to install mine at `/opt/conda`, but that's a global configuration.\n",
    " - You can just as easily do a local one at `/home/<your_username>/conda` or `/home/<your_username>/python` or whatever you'd like!"
   ]
  },
  {
   "cell_type": "code",
   "execution_count": 2,
   "metadata": {},
   "outputs": [
    {
     "name": "stdout",
     "output_type": "stream",
     "text": [
      "Anaconda3-2023.07-2-MacOSX-x86_64.sh\r\n",
      "Dockerfile\r\n",
      "README.md\r\n",
      "W0--Getting Started with Anaconda for Data Science in Python.ipynb\r\n",
      "\u001b[34mimages\u001b[m\u001b[m\r\n"
     ]
    }
   ],
   "source": [
    "!ls # This will show us the files in our current directory"
   ]
  },
  {
   "cell_type": "code",
   "execution_count": 3,
   "metadata": {},
   "outputs": [],
   "source": [
    "# This is an easy one-liner, but it's absolutely necessary: it makes the file *executable*\n",
    "\n",
    "!chmod +x Anaconda3-2023.07-2-MacOSX-x86_64.sh"
   ]
  },
  {
   "cell_type": "code",
   "execution_count": 4,
   "metadata": {},
   "outputs": [
    {
     "name": "stdout",
     "output_type": "stream",
     "text": [
      "PREFIX=/home/squinn/Programming/Teaching/4360/dev/workshops/w0/conda-install\n",
      "installing: python-3.6.1-2 ...\n",
      "installing: _license-1.1-py36_1 ...\n",
      "installing: alabaster-0.7.10-py36_0 ...\n",
      "installing: anaconda-client-1.6.3-py36_0 ...\n",
      "installing: anaconda-navigator-1.6.2-py36_0 ...\n",
      "installing: anaconda-project-0.6.0-py36_0 ...\n",
      "installing: asn1crypto-0.22.0-py36_0 ...\n",
      "installing: astroid-1.4.9-py36_0 ...\n",
      "installing: astropy-1.3.2-np112py36_0 ...\n",
      "installing: babel-2.4.0-py36_0 ...\n",
      "installing: backports-1.0-py36_0 ...\n",
      "installing: beautifulsoup4-4.6.0-py36_0 ...\n",
      "installing: bitarray-0.8.1-py36_0 ...\n",
      "installing: blaze-0.10.1-py36_0 ...\n",
      "installing: bleach-1.5.0-py36_0 ...\n",
      "installing: bokeh-0.12.5-py36_1 ...\n",
      "installing: boto-2.46.1-py36_0 ...\n",
      "installing: bottleneck-1.2.1-np112py36_0 ...\n",
      "installing: cairo-1.14.8-0 ...\n",
      "installing: cffi-1.10.0-py36_0 ...\n",
      "installing: chardet-3.0.3-py36_0 ...\n",
      "installing: click-6.7-py36_0 ...\n",
      "installing: cloudpickle-0.2.2-py36_0 ...\n",
      "installing: clyent-1.2.2-py36_0 ...\n",
      "installing: colorama-0.3.9-py36_0 ...\n",
      "installing: contextlib2-0.5.5-py36_0 ...\n",
      "installing: cryptography-1.8.1-py36_0 ...\n",
      "installing: curl-7.52.1-0 ...\n",
      "installing: cycler-0.10.0-py36_0 ...\n",
      "installing: cython-0.25.2-py36_0 ...\n",
      "installing: cytoolz-0.8.2-py36_0 ...\n",
      "installing: dask-0.14.3-py36_1 ...\n",
      "installing: datashape-0.5.4-py36_0 ...\n",
      "installing: dbus-1.10.10-0 ...\n",
      "installing: decorator-4.0.11-py36_0 ...\n",
      "installing: distributed-1.16.3-py36_0 ...\n",
      "installing: docutils-0.13.1-py36_0 ...\n",
      "installing: entrypoints-0.2.2-py36_1 ...\n",
      "installing: et_xmlfile-1.0.1-py36_0 ...\n",
      "installing: expat-2.1.0-0 ...\n",
      "installing: fastcache-1.0.2-py36_1 ...\n",
      "installing: flask-0.12.2-py36_0 ...\n",
      "installing: flask-cors-3.0.2-py36_0 ...\n",
      "installing: fontconfig-2.12.1-3 ...\n",
      "installing: freetype-2.5.5-2 ...\n",
      "installing: get_terminal_size-1.0.0-py36_0 ...\n",
      "installing: gevent-1.2.1-py36_0 ...\n",
      "installing: glib-2.50.2-1 ...\n",
      "installing: greenlet-0.4.12-py36_0 ...\n",
      "installing: gst-plugins-base-1.8.0-0 ...\n",
      "installing: gstreamer-1.8.0-0 ...\n",
      "installing: h5py-2.7.0-np112py36_0 ...\n",
      "installing: harfbuzz-0.9.39-2 ...\n",
      "installing: hdf5-1.8.17-1 ...\n",
      "installing: heapdict-1.0.0-py36_1 ...\n",
      "installing: html5lib-0.999-py36_0 ...\n",
      "installing: icu-54.1-0 ...\n",
      "installing: idna-2.5-py36_0 ...\n",
      "installing: imagesize-0.7.1-py36_0 ...\n",
      "installing: ipykernel-4.6.1-py36_0 ...\n",
      "installing: ipython-5.3.0-py36_0 ...\n",
      "installing: ipython_genutils-0.2.0-py36_0 ...\n",
      "installing: ipywidgets-6.0.0-py36_0 ...\n",
      "installing: isort-4.2.5-py36_0 ...\n",
      "installing: itsdangerous-0.24-py36_0 ...\n",
      "installing: jbig-2.1-0 ...\n",
      "installing: jdcal-1.3-py36_0 ...\n",
      "installing: jedi-0.10.2-py36_2 ...\n",
      "installing: jinja2-2.9.6-py36_0 ...\n",
      "installing: jpeg-9b-0 ...\n",
      "installing: jsonschema-2.6.0-py36_0 ...\n",
      "installing: jupyter-1.0.0-py36_3 ...\n",
      "installing: jupyter_client-5.0.1-py36_0 ...\n",
      "installing: jupyter_console-5.1.0-py36_0 ...\n",
      "installing: jupyter_core-4.3.0-py36_0 ...\n",
      "installing: lazy-object-proxy-1.2.2-py36_0 ...\n",
      "installing: libffi-3.2.1-1 ...\n",
      "installing: libgcc-4.8.5-2 ...\n",
      "installing: libgfortran-3.0.0-1 ...\n",
      "installing: libiconv-1.14-0 ...\n",
      "installing: libpng-1.6.27-0 ...\n",
      "installing: libsodium-1.0.10-0 ...\n",
      "installing: libtiff-4.0.6-3 ...\n",
      "installing: libtool-2.4.2-0 ...\n",
      "installing: libxcb-1.12-1 ...\n",
      "installing: libxml2-2.9.4-0 ...\n",
      "installing: libxslt-1.1.29-0 ...\n",
      "installing: llvmlite-0.18.0-py36_0 ...\n",
      "installing: locket-0.2.0-py36_1 ...\n",
      "installing: lxml-3.7.3-py36_0 ...\n",
      "installing: markupsafe-0.23-py36_2 ...\n",
      "installing: matplotlib-2.0.2-np112py36_0 ...\n",
      "installing: mistune-0.7.4-py36_0 ...\n",
      "installing: mkl-2017.0.1-0 ...\n",
      "installing: mkl-service-1.1.2-py36_3 ...\n",
      "installing: mpmath-0.19-py36_1 ...\n",
      "installing: msgpack-python-0.4.8-py36_0 ...\n",
      "installing: multipledispatch-0.4.9-py36_0 ...\n",
      "installing: navigator-updater-0.1.0-py36_0 ...\n",
      "installing: nbconvert-5.1.1-py36_0 ...\n",
      "installing: nbformat-4.3.0-py36_0 ...\n",
      "installing: networkx-1.11-py36_0 ...\n",
      "installing: nltk-3.2.3-py36_0 ...\n",
      "installing: nose-1.3.7-py36_1 ...\n",
      "installing: notebook-5.0.0-py36_0 ...\n",
      "installing: numba-0.33.0-np112py36_0 ...\n",
      "installing: numexpr-2.6.2-np112py36_0 ...\n",
      "installing: numpy-1.12.1-py36_0 ...\n",
      "installing: numpydoc-0.6.0-py36_0 ...\n",
      "installing: odo-0.5.0-py36_1 ...\n",
      "installing: olefile-0.44-py36_0 ...\n",
      "installing: openpyxl-2.4.7-py36_0 ...\n",
      "installing: openssl-1.0.2l-0 ...\n",
      "installing: packaging-16.8-py36_0 ...\n",
      "installing: pandas-0.20.1-np112py36_0 ...\n",
      "installing: pandocfilters-1.4.1-py36_0 ...\n",
      "installing: pango-1.40.3-1 ...\n",
      "installing: partd-0.3.8-py36_0 ...\n",
      "installing: path.py-10.3.1-py36_0 ...\n",
      "installing: pathlib2-2.2.1-py36_0 ...\n",
      "installing: patsy-0.4.1-py36_0 ...\n",
      "installing: pcre-8.39-1 ...\n",
      "installing: pep8-1.7.0-py36_0 ...\n",
      "installing: pexpect-4.2.1-py36_0 ...\n",
      "installing: pickleshare-0.7.4-py36_0 ...\n",
      "installing: pillow-4.1.1-py36_0 ...\n",
      "installing: pip-9.0.1-py36_1 ...\n",
      "installing: pixman-0.34.0-0 ...\n",
      "installing: ply-3.10-py36_0 ...\n",
      "installing: prompt_toolkit-1.0.14-py36_0 ...\n",
      "installing: psutil-5.2.2-py36_0 ...\n",
      "installing: ptyprocess-0.5.1-py36_0 ...\n",
      "installing: py-1.4.33-py36_0 ...\n",
      "installing: pycosat-0.6.2-py36_0 ...\n",
      "installing: pycparser-2.17-py36_0 ...\n",
      "installing: pycrypto-2.6.1-py36_6 ...\n",
      "installing: pycurl-7.43.0-py36_2 ...\n",
      "installing: pyflakes-1.5.0-py36_0 ...\n",
      "installing: pygments-2.2.0-py36_0 ...\n",
      "installing: pylint-1.6.4-py36_1 ...\n",
      "installing: pyodbc-4.0.16-py36_0 ...\n",
      "installing: pyopenssl-17.0.0-py36_0 ...\n",
      "installing: pyparsing-2.1.4-py36_0 ...\n",
      "installing: pyqt-5.6.0-py36_2 ...\n",
      "installing: pytables-3.3.0-np112py36_0 ...\n",
      "installing: pytest-3.0.7-py36_0 ...\n",
      "installing: python-dateutil-2.6.0-py36_0 ...\n",
      "installing: pytz-2017.2-py36_0 ...\n",
      "installing: pywavelets-0.5.2-np112py36_0 ...\n",
      "installing: pyyaml-3.12-py36_0 ...\n",
      "installing: pyzmq-16.0.2-py36_0 ...\n",
      "installing: qt-5.6.2-4 ...\n",
      "installing: qtawesome-0.4.4-py36_0 ...\n",
      "installing: qtconsole-4.3.0-py36_0 ...\n",
      "installing: qtpy-1.2.1-py36_0 ...\n",
      "installing: readline-6.2-2 ...\n",
      "installing: requests-2.14.2-py36_0 ...\n",
      "installing: rope-0.9.4-py36_1 ...\n",
      "installing: ruamel_yaml-0.11.14-py36_1 ...\n",
      "installing: scikit-image-0.13.0-np112py36_0 ...\n",
      "installing: scikit-learn-0.18.1-np112py36_1 ...\n",
      "installing: scipy-0.19.0-np112py36_0 ...\n",
      "installing: seaborn-0.7.1-py36_0 ...\n",
      "installing: setuptools-27.2.0-py36_0 ...\n",
      "installing: simplegeneric-0.8.1-py36_1 ...\n",
      "installing: singledispatch-3.4.0.3-py36_0 ...\n",
      "installing: sip-4.18-py36_0 ...\n",
      "installing: six-1.10.0-py36_0 ...\n",
      "installing: snowballstemmer-1.2.1-py36_0 ...\n",
      "installing: sortedcollections-0.5.3-py36_0 ...\n",
      "installing: sortedcontainers-1.5.7-py36_0 ...\n",
      "installing: sphinx-1.5.6-py36_0 ...\n",
      "installing: spyder-3.1.4-py36_0 ...\n",
      "installing: sqlalchemy-1.1.9-py36_0 ...\n",
      "installing: sqlite-3.13.0-0 ...\n",
      "installing: statsmodels-0.8.0-np112py36_0 ...\n",
      "installing: sympy-1.0-py36_0 ...\n",
      "installing: tblib-1.3.2-py36_0 ...\n",
      "installing: terminado-0.6-py36_0 ...\n",
      "installing: testpath-0.3-py36_0 ...\n",
      "installing: tk-8.5.18-0 ...\n",
      "installing: toolz-0.8.2-py36_0 ...\n",
      "installing: tornado-4.5.1-py36_0 ...\n",
      "installing: traitlets-4.3.2-py36_0 ...\n",
      "installing: unicodecsv-0.14.1-py36_0 ...\n",
      "installing: unixodbc-2.3.4-0 ...\n",
      "installing: wcwidth-0.1.7-py36_0 ...\n",
      "installing: werkzeug-0.12.2-py36_0 ...\n",
      "installing: wheel-0.29.0-py36_0 ...\n",
      "installing: widgetsnbextension-2.0.0-py36_0 ...\n",
      "installing: wrapt-1.10.10-py36_0 ...\n",
      "installing: xlrd-1.0.0-py36_0 ...\n",
      "installing: xlsxwriter-0.9.6-py36_0 ...\n",
      "installing: xlwt-1.2.0-py36_0 ...\n",
      "installing: xz-5.2.2-1 ...\n",
      "installing: yaml-0.1.6-0 ...\n",
      "installing: zeromq-4.1.5-0 ...\n",
      "installing: zict-0.1.2-py36_0 ...\n",
      "installing: zlib-1.2.8-3 ...\n",
      "installing: anaconda-4.4.0-np112py36_0 ...\n",
      "installing: conda-4.3.21-py36_0 ...\n",
      "installing: conda-env-2.6.0-0 ...\n",
      "Python 3.6.1 :: Continuum Analytics, Inc.\n",
      "creating default environment...\n",
      "installation finished.\n"
     ]
    }
   ],
   "source": [
    "# The \"-b\" flag means \"batch\", which means the install won't stop to ask us pesky questions\n",
    "# The \"-p\" flag expects a path where Python will be installed. I've provided a local one\n",
    "\n",
    "!bash Anaconda3-2023.07-2-MacOSX-x86_64.sh -b -p ./conda-install"
   ]
  },
  {
   "cell_type": "markdown",
   "metadata": {},
   "source": [
    "This part will take awhile, depending largely on your internet connection. Go grab some coffee!"
   ]
  },
  {
   "cell_type": "markdown",
   "metadata": {},
   "source": [
    "![coffee](images/coffee.gif)"
   ]
  },
  {
   "cell_type": "markdown",
   "metadata": {},
   "source": [
    "There's one more small step to be done, and here's where things might get confusing if you've little or no experience installing things by command line."
   ]
  },
  {
   "cell_type": "markdown",
   "metadata": {},
   "source": [
    "You've installed Python locally, and that's super-cool--uninstall is quite literally as easy as trashing the directory you put after the `-p` flag--but the problem is, *your computer doesn't know where it is.*"
   ]
  },
  {
   "cell_type": "code",
   "execution_count": 5,
   "metadata": {},
   "outputs": [
    {
     "name": "stdout",
     "output_type": "stream",
     "text": [
      "/opt/python/bin/python\r\n"
     ]
    }
   ],
   "source": [
    "!which python"
   ]
  },
  {
   "cell_type": "markdown",
   "metadata": {},
   "source": [
    "This is a great command to test exactly what version of `python` is being executed. In this case, it's a version I'd installed previous, at `/opt/python`. That is definitely *not* the version I just installed. How do I alert my operating system that, when I type a command starting with `python`, I want it to refer to the local one I just installed?"
   ]
  },
  {
   "cell_type": "markdown",
   "metadata": {},
   "source": [
    "You have two options: both involve editing the `PATH` environment variable that is more or less singularly responsible for telling your computer where everything is (if you've ever accidentally nuked this variable, you know how important it is). **The difference is how your edits persist.**"
   ]
  },
  {
   "cell_type": "markdown",
   "metadata": {},
   "source": [
    "### Option 1: Edit your `.bashrc` (\\*nix) or `.profile` (macOS)"
   ]
  },
  {
   "cell_type": "markdown",
   "metadata": {},
   "source": [
    "This makes the changes *stick*, even after you close down your command prompt. Even after you reboot!"
   ]
  },
  {
   "cell_type": "markdown",
   "metadata": {},
   "source": [
    " 1. Open up the correct file (they're both found in your home directory).\n",
    " 2. At the end of the file, put the following line:"
   ]
  },
  {
   "cell_type": "markdown",
   "metadata": {},
   "source": [
    "```\n",
    "export PATH=/home/<your_username>/conda-install/bin:$PATH\n",
    "```"
   ]
  },
  {
   "cell_type": "markdown",
   "metadata": {},
   "source": [
    "Basically, the FULL path of whatever directory you provided to the Anaconda installer, with `/bin` tacked on the end."
   ]
  },
  {
   "cell_type": "markdown",
   "metadata": {},
   "source": [
    "Also, don't forget the colon and the `$PATH` suffix! Doing so will achieve said nuking of the variable!"
   ]
  },
  {
   "cell_type": "markdown",
   "metadata": {},
   "source": [
    "### Option 2: DO IT LIVE"
   ]
  },
  {
   "cell_type": "markdown",
   "metadata": {},
   "source": [
    "This is essentially: changing the variable for the duration of time you have your command prompt window open. Once you close it down, your computer reverts to whatever configuration it was before. That can be achieved simply by running the above command right in your command prompt window:"
   ]
  },
  {
   "cell_type": "markdown",
   "metadata": {},
   "source": [
    "```\n",
    "export PATH=/home/<your_username>/conda-install/bin:$PATH\n",
    "```"
   ]
  },
  {
   "cell_type": "markdown",
   "metadata": {},
   "source": [
    "I'll do that one here, using the Terminal interface provided by Jupyter notebooks:"
   ]
  },
  {
   "cell_type": "markdown",
   "metadata": {},
   "source": [
    "![exportpath](images/exportpath.png)"
   ]
  },
  {
   "cell_type": "markdown",
   "metadata": {},
   "source": [
    "Once you type `exit` on that command prompt, those changes will go away and the `PATH` variable will revert to whatever it was before, obviously devoid of the changes you made with respect to the local Python install. So if you want the changes to stick, go with Option 1."
   ]
  },
  {
   "cell_type": "markdown",
   "metadata": {},
   "source": [
    "### Option 3: It's done for you"
   ]
  },
  {
   "cell_type": "markdown",
   "metadata": {},
   "source": [
    "If you use the `exe` or `pkg` installers provided by the Windows or macOS versions respectively, they do this exact thing under the hood!"
   ]
  },
  {
   "cell_type": "markdown",
   "metadata": {},
   "source": [
    "# Part 2: Conda Environments"
   ]
  },
  {
   "cell_type": "markdown",
   "metadata": {},
   "source": [
    "One of the most powerful aspects of Anaconda is the concept of the *environment*."
   ]
  },
  {
   "cell_type": "markdown",
   "metadata": {},
   "source": [
    "Have you heard of `virtualenv`? It's a Python package that allows to create \"virtual environments\" that are completely disconnected from each other. Reasons you might want to have parallel Python environments existing completely separately from one another:"
   ]
  },
  {
   "cell_type": "markdown",
   "metadata": {},
   "source": [
    " - Testing version compatibility of a software package you're developing\n",
    " - Using a third-party package that is only compatible with certain versions of other packages\n",
    " - Slowly upgrading aspects of an environment while wanting to maintain a working, original \"production\" environment\n",
    " - ... etc"
   ]
  },
  {
   "cell_type": "markdown",
   "metadata": {},
   "source": [
    "The `conda` tool, first and foremost, is an environment manager. In fact, when you installed Anaconda, it created an initial \"default\" environment: using this blueprint as a jumping-off point, you could construct lots of parallel environments using different versions of Python, or the packages, or just different package combinations."
   ]
  },
  {
   "cell_type": "markdown",
   "metadata": {},
   "source": [
    "Biggest example: **Python 2 versus Python 3.**"
   ]
  },
  {
   "cell_type": "code",
   "execution_count": 4,
   "metadata": {},
   "outputs": [
    {
     "name": "stdout",
     "output_type": "stream",
     "text": [
      "# conda environments:\r\n",
      "#\r\n",
      "py27                     /opt/python/envs/py27\r\n",
      "py35-opencv3             /opt/python/envs/py35-opencv3\r\n",
      "py36                     /opt/python/envs/py36\r\n",
      "root                  *  /opt/python\r\n",
      "\r\n"
     ]
    }
   ],
   "source": [
    "!conda env list"
   ]
  },
  {
   "cell_type": "markdown",
   "metadata": {},
   "source": [
    "As you can see, I already have four Python environments up and running for several different versions of Python."
   ]
  },
  {
   "cell_type": "markdown",
   "metadata": {},
   "source": [
    "### Creating a new \"ad-hoc\" environment"
   ]
  },
  {
   "cell_type": "markdown",
   "metadata": {},
   "source": [
    "This is certainly the easiest way of creating a new environment: just give conda a name and a list of core packages, and you're good to go!"
   ]
  },
  {
   "cell_type": "code",
   "execution_count": 6,
   "metadata": {},
   "outputs": [
    {
     "name": "stdout",
     "output_type": "stream",
     "text": [
      "Fetching package metadata .............\n",
      "Solving package specifications: .\n",
      "\n",
      "Package plan for installation in environment /opt/python/envs/myenv:\n",
      "\n",
      "The following NEW packages will be INSTALLED:\n",
      "\n",
      "    backports_abc:      0.5-py27_0                    conda-forge\n",
      "    blas:               1.1-openblas                  conda-forge\n",
      "    ca-certificates:    2017.7.27.1-0                 conda-forge\n",
      "    certifi:            2017.7.27.1-py27_0            conda-forge\n",
      "    cycler:             0.10.0-py27_0                 conda-forge\n",
      "    dbus:               1.10.10-3                     conda-forge\n",
      "    expat:              2.2.1-0                       conda-forge\n",
      "    fontconfig:         2.12.1-4                      conda-forge\n",
      "    freetype:           2.7-1                         conda-forge\n",
      "    functools32:        3.2.3.2-py27_1                conda-forge\n",
      "    gettext:            0.19.7-1                      conda-forge\n",
      "    glib:               2.51.4-0                      conda-forge\n",
      "    gst-plugins-base:   1.8.0-0                       conda-forge\n",
      "    gstreamer:          1.8.0-2                       conda-forge\n",
      "    icu:                58.1-1                        conda-forge\n",
      "    jpeg:               9b-0                          conda-forge\n",
      "    libffi:             3.2.1-3                       conda-forge\n",
      "    libgfortran:        3.0.0-1                                  \n",
      "    libiconv:           1.14-4                        conda-forge\n",
      "    libpng:             1.6.28-0                      conda-forge\n",
      "    libxcb:             1.12-1                        conda-forge\n",
      "    libxml2:            2.9.4-4                       conda-forge\n",
      "    matplotlib:         2.0.2-py27_2                  conda-forge\n",
      "    ncurses:            5.9-10                        conda-forge\n",
      "    numpy:              1.13.1-py27_blas_openblas_200 conda-forge [blas_openblas]\n",
      "    openblas:           0.2.19-2                      conda-forge\n",
      "    openssl:            1.0.2l-0                      conda-forge\n",
      "    pcre:               8.39-0                        conda-forge\n",
      "    pip:                9.0.1-py27_0                  conda-forge\n",
      "    pyparsing:          2.2.0-py27_0                  conda-forge\n",
      "    pyqt:               5.6.0-py27_4                  conda-forge\n",
      "    python:             2.7.13-1                      conda-forge\n",
      "    python-dateutil:    2.6.1-py27_0                  conda-forge\n",
      "    pytz:               2017.2-py27_0                 conda-forge\n",
      "    qt:                 5.6.2-3                       conda-forge\n",
      "    readline:           6.2-0                         conda-forge\n",
      "    scikit-learn:       0.19.0-py27_blas_openblas_201 conda-forge [blas_openblas]\n",
      "    scipy:              0.19.1-py27_blas_openblas_202 conda-forge [blas_openblas]\n",
      "    setuptools:         36.2.2-py27_0                 conda-forge\n",
      "    singledispatch:     3.4.0.3-py27_0                conda-forge\n",
      "    sip:                4.18-py27_1                   conda-forge\n",
      "    six:                1.10.0-py27_1                 conda-forge\n",
      "    sqlite:             3.13.0-1                      conda-forge\n",
      "    ssl_match_hostname: 3.5.0.1-py27_1                conda-forge\n",
      "    subprocess32:       3.2.7-py27_0                  conda-forge\n",
      "    tk:                 8.5.19-2                      conda-forge\n",
      "    tornado:            4.5.1-py27_0                  conda-forge\n",
      "    wheel:              0.29.0-py27_0                 conda-forge\n",
      "    xorg-libxau:        1.0.8-3                       conda-forge\n",
      "    xorg-libxdmcp:      1.1.2-3                       conda-forge\n",
      "    xz:                 5.2.2-0                       conda-forge\n",
      "    zlib:               1.2.11-0                      conda-forge\n",
      "\n",
      "ca-certificate 100% |################################| Time: 0:00:00   1.16 MB/s\n",
      "tk-8.5.19-2.ta 100% |################################| Time: 0:00:00   7.57 MB/s\n",
      "python-2.7.13- 100% |################################| Time: 0:00:00  38.14 MB/s\n",
      "backports_abc- 100% |################################| Time: 0:00:00  12.50 MB/s\n",
      "certifi-2017.7 100% |################################| Time: 0:00:00  75.22 MB/s\n",
      "functools32-3. 100% |################################| Time: 0:00:00  31.36 MB/s\n",
      "numpy-1.13.1-p 100% |################################| Time: 0:00:00  44.09 MB/s\n",
      "pyparsing-2.2. 100% |################################| Time: 0:00:00  64.14 MB/s\n",
      "pytz-2017.2-py 100% |################################| Time: 0:00:00  72.18 MB/s\n",
      "sip-4.18-py27_ 100% |################################| Time: 0:00:00  74.45 MB/s\n",
      "six-1.10.0-py2 100% |################################| Time: 0:00:00   1.53 MB/s\n",
      "ssl_match_host 100% |################################| Time: 0:00:00  17.21 MB/s\n",
      "subprocess32-3 100% |################################| Time: 0:00:00  50.41 MB/s\n",
      "cycler-0.10.0- 100% |################################| Time: 0:00:00  25.00 MB/s\n",
      "python-dateuti 100% |################################| Time: 0:00:00  11.84 MB/s\n",
      "scipy-0.19.1-p 100% |################################| Time: 0:00:00  69.25 MB/s\n",
      "setuptools-36. 100% |################################| Time: 0:00:00  90.08 MB/s\n",
      "singledispatch 100% |################################| Time: 0:00:00  16.12 MB/s\n",
      "pyqt-5.6.0-py2 100% |################################| Time: 0:00:00  25.71 MB/s\n",
      "scikit-learn-0 100% |################################| Time: 0:00:00  64.01 MB/s\n",
      "tornado-4.5.1- 100% |################################| Time: 0:00:00  28.77 MB/s\n",
      "matplotlib-2.0 100% |################################| Time: 0:00:00  40.42 MB/s\n",
      "#\n",
      "# To activate this environment, use:\n",
      "# > source activate myenv\n",
      "#\n",
      "# To deactivate an active environment, use:\n",
      "# > source deactivate\n",
      "#\n",
      "\n"
     ]
    }
   ],
   "source": [
    "!conda create -n myenv -y python=2.7 scikit-learn numpy scipy matplotlib"
   ]
  },
  {
   "cell_type": "markdown",
   "metadata": {},
   "source": [
    "Ta-daa!\n",
    "\n",
    "Let's break it down:"
   ]
  },
  {
   "cell_type": "markdown",
   "metadata": {},
   "source": [
    "```\n",
    "conda create\n",
    "```"
   ]
  },
  {
   "cell_type": "markdown",
   "metadata": {},
   "source": [
    "This is the part of the command that specifies that we want a new environment, separate from the default (or \"root\")."
   ]
  },
  {
   "cell_type": "markdown",
   "metadata": {},
   "source": [
    "```\n",
    "-n myenv\n",
    "```"
   ]
  },
  {
   "cell_type": "markdown",
   "metadata": {},
   "source": [
    "This part provides the name of the environment. It can be pretty much anything other than \"root\", aside from any other environments you've named. Try to make the name descriptive of its purpose! (*HINT*: perhaps name your environments by the project you're working on?...)"
   ]
  },
  {
   "cell_type": "markdown",
   "metadata": {},
   "source": [
    "```\n",
    "python=2.7 scikit-learn numpy scipy matplotlib\n",
    "```"
   ]
  },
  {
   "cell_type": "markdown",
   "metadata": {},
   "source": [
    "This is the list of packages I want my new environment to come with by default: Python (version 2.7), scikit-learn, NumPy, SciPy, and Matplotlib."
   ]
  },
  {
   "cell_type": "markdown",
   "metadata": {},
   "source": [
    "After that, conda goes to work! It even provides the instructions at the end for switching into and out of the environment:"
   ]
  },
  {
   "cell_type": "markdown",
   "metadata": {},
   "source": [
    "```\n",
    "conda activate myenv\n",
    "```"
   ]
  },
  {
   "cell_type": "markdown",
   "metadata": {},
   "source": [
    "drops you into the environment, and once inside it,"
   ]
  },
  {
   "cell_type": "markdown",
   "metadata": {},
   "source": [
    "```\n",
    "conda deactivate\n",
    "```"
   ]
  },
  {
   "cell_type": "markdown",
   "metadata": {},
   "source": [
    "drops you out and back into the default, or root, environment."
   ]
  },
  {
   "cell_type": "code",
   "execution_count": 7,
   "metadata": {},
   "outputs": [
    {
     "name": "stdout",
     "output_type": "stream",
     "text": [
      "# conda environments:\r\n",
      "#\r\n",
      "myenv                    /opt/python/envs/myenv\r\n",
      "py27                     /opt/python/envs/py27\r\n",
      "py35-opencv3             /opt/python/envs/py35-opencv3\r\n",
      "py36                     /opt/python/envs/py36\r\n",
      "root                  *  /opt/python\r\n",
      "\r\n"
     ]
    }
   ],
   "source": [
    "!conda env list"
   ]
  },
  {
   "cell_type": "markdown",
   "metadata": {},
   "source": [
    "### Addendum: Cloning an existing environment"
   ]
  },
  {
   "cell_type": "markdown",
   "metadata": {},
   "source": [
    "If you love an environment and have it set up *perfectly* and want to introduce an unstable element, you can also *clone* that environment into a new one."
   ]
  },
  {
   "cell_type": "markdown",
   "metadata": {},
   "source": [
    "It works the same as before, but in lieu of a package list (which you can still provide!), the main argument is the `--clone` option:"
   ]
  },
  {
   "cell_type": "code",
   "execution_count": 8,
   "metadata": {},
   "outputs": [
    {
     "name": "stdout",
     "output_type": "stream",
     "text": [
      "Source:      /opt/python/envs/myenv\n",
      "Destination: /opt/python/envs/myenv2\n",
      "Packages: 52\n",
      "Files: 0\n",
      "#\n",
      "# To activate this environment, use:\n",
      "# > source activate myenv2\n",
      "#\n",
      "# To deactivate an active environment, use:\n",
      "# > source deactivate\n",
      "#\n",
      "\n"
     ]
    }
   ],
   "source": [
    "!conda create -n myenv2 --clone myenv"
   ]
  },
  {
   "cell_type": "code",
   "execution_count": 9,
   "metadata": {},
   "outputs": [
    {
     "name": "stdout",
     "output_type": "stream",
     "text": [
      "# conda environments:\r\n",
      "#\r\n",
      "myenv                    /opt/python/envs/myenv\r\n",
      "myenv2                   /opt/python/envs/myenv2\r\n",
      "py27                     /opt/python/envs/py27\r\n",
      "py35-opencv3             /opt/python/envs/py35-opencv3\r\n",
      "py36                     /opt/python/envs/py36\r\n",
      "root                  *  /opt/python\r\n",
      "\r\n"
     ]
    }
   ],
   "source": [
    "!conda env list"
   ]
  },
  {
   "cell_type": "markdown",
   "metadata": {},
   "source": [
    "There you go! Two identical but completely distinct environments."
   ]
  },
  {
   "cell_type": "markdown",
   "metadata": {},
   "source": [
    "### Exporting environments\n",
    "\n",
    "You've gone through all this trouble to set up and configure your environment. Over the days/weeks/months, you've installed and removed certain packages. You have the *perfect* environment.\n",
    "\n",
    "Now, your friend wants the same environment. We've seen how easy it is to clone existing environments on the same machine, but what about sending the environment schematics elsewhere?\n",
    "\n",
    "As an example, I maintain a list of Python packages that I use to rebuild my default environment from scratch in the case of catastrophic failure.\n",
    "\n",
    "In this case, you can *export* your environments into the super-friendly YAML format:"
   ]
  },
  {
   "cell_type": "code",
   "execution_count": 1,
   "metadata": {
    "collapsed": true
   },
   "outputs": [],
   "source": [
    "!conda env export -n myenv2 -f myenv2.yaml"
   ]
  },
  {
   "cell_type": "markdown",
   "metadata": {},
   "source": [
    "This creates a file `myenv2.yaml` (which you can name whatever you want) from the \"myenv2\" environment. Here are the contents of the file:"
   ]
  },
  {
   "cell_type": "code",
   "execution_count": null,
   "metadata": {
    "collapsed": true
   },
   "outputs": [],
   "source": [
    "# %load myenv2.yaml\n",
    "name: myenv2\n",
    "channels:\n",
    "- menpo\n",
    "- conda-forge\n",
    "- defaults\n",
    "dependencies:\n",
    "- backports_abc=0.5=py27_0\n",
    "- blas=1.1=openblas\n",
    "- ca-certificates=2017.7.27.1=0\n",
    "- certifi=2017.7.27.1=py27_0\n",
    "- cycler=0.10.0=py27_0\n",
    "- dbus=1.10.10=3\n",
    "- expat=2.2.1=0\n",
    "- fontconfig=2.12.1=4\n",
    "- freetype=2.7=1\n",
    "- functools32=3.2.3.2=py27_1\n",
    "- gettext=0.19.7=1\n",
    "- glib=2.51.4=0\n",
    "- gst-plugins-base=1.8.0=0\n",
    "- gstreamer=1.8.0=2\n",
    "- icu=58.1=1\n",
    "- jpeg=9b=0\n",
    "- libffi=3.2.1=3\n",
    "- libiconv=1.14=4\n",
    "- libpng=1.6.28=0\n",
    "- libxcb=1.12=1\n",
    "- libxml2=2.9.4=4\n",
    "- matplotlib=2.0.2=py27_2\n",
    "- ncurses=5.9=10\n",
    "- numpy=1.13.1=py27_blas_openblas_200\n",
    "- openblas=0.2.19=2\n",
    "- openssl=1.0.2l=0\n",
    "- pcre=8.39=0\n",
    "- pip=9.0.1=py27_0\n",
    "- pyparsing=2.2.0=py27_0\n",
    "- pyqt=5.6.0=py27_4\n",
    "- python=2.7.13=1\n",
    "- python-dateutil=2.6.1=py27_0\n",
    "- pytz=2017.2=py27_0\n",
    "- qt=5.6.2=3\n",
    "- readline=6.2=0\n",
    "- scikit-learn=0.19.0=py27_blas_openblas_201\n",
    "- scipy=0.19.1=py27_blas_openblas_202\n",
    "- setuptools=36.2.2=py27_0\n",
    "- singledispatch=3.4.0.3=py27_0\n",
    "- sip=4.18=py27_1\n",
    "- six=1.10.0=py27_1\n",
    "- sqlite=3.13.0=1\n",
    "- ssl_match_hostname=3.5.0.1=py27_1\n",
    "- subprocess32=3.2.7=py27_0\n",
    "- tk=8.5.19=2\n",
    "- tornado=4.5.1=py27_0\n",
    "- wheel=0.29.0=py27_0\n",
    "- xorg-libxau=1.0.8=3\n",
    "- xorg-libxdmcp=1.1.2=3\n",
    "- xz=5.2.2=0\n",
    "- zlib=1.2.11=0\n",
    "- libgfortran=3.0.0=1\n",
    "- pip:\n",
    "  - backports-abc==0.5\n",
    "  - backports.ssl-match-hostname==3.5.0.1\n",
    "prefix: /opt/python/envs/myenv2\n"
   ]
  },
  {
   "cell_type": "markdown",
   "metadata": {},
   "source": [
    "It's incredibly detailed, down to the exact versions of each package used in the environment. Short of the operating system itself, you can use this to duplicate environments *exactly* on different computers."
   ]
  },
  {
   "cell_type": "markdown",
   "metadata": {},
   "source": [
    "### Creating manually-built environments"
   ]
  },
  {
   "cell_type": "markdown",
   "metadata": {},
   "source": [
    "Then, of course, there's the opposite operation: creating an environment from a YAML file."
   ]
  },
  {
   "cell_type": "markdown",
   "metadata": {},
   "source": [
    "NOTE: You'll notice there's a `name` field in the YAML file. Since we're performing both the export and import on the same machine, there could be a conflict in the name of the environment. Normally, this wouldn't be the case, but here we'll have to fix that one of two ways.\n",
    "\n",
    "1: Just change the name of the environment in the YAML file to something else.\n",
    "2: Use the `-n` flag to specify a name when you create the environment from the file."
   ]
  },
  {
   "cell_type": "code",
   "execution_count": 3,
   "metadata": {},
   "outputs": [
    {
     "name": "stdout",
     "output_type": "stream",
     "text": [
      "Fetching package metadata .............\n",
      "Solving package specifications: .\n",
      "Requirement already satisfied: backports-abc==0.5 in /opt/python/envs/myenv3/lib/python2.7/site-packages\n",
      "Requirement already satisfied: backports.ssl-match-hostname==3.5.0.1 in /opt/python/envs/myenv3/lib/python2.7/site-packages\n",
      "#\n",
      "# To activate this environment, use:\n",
      "# > source activate myenv3\n",
      "#\n",
      "# To deactivate an active environment, use:\n",
      "# > source deactivate\n",
      "#\n",
      "\n"
     ]
    }
   ],
   "source": [
    "!conda env create -n myenv3 -f myenv2.yaml"
   ]
  },
  {
   "cell_type": "code",
   "execution_count": 4,
   "metadata": {},
   "outputs": [
    {
     "name": "stdout",
     "output_type": "stream",
     "text": [
      "# conda environments:\r\n",
      "#\r\n",
      "myenv                    /opt/python/envs/myenv\r\n",
      "myenv2                   /opt/python/envs/myenv2\r\n",
      "myenv3                   /opt/python/envs/myenv3\r\n",
      "py27                     /opt/python/envs/py27\r\n",
      "py35-opencv3             /opt/python/envs/py35-opencv3\r\n",
      "py36                     /opt/python/envs/py36\r\n",
      "root                  *  /opt/python\r\n",
      "\r\n"
     ]
    }
   ],
   "source": [
    "!conda env list"
   ]
  },
  {
   "cell_type": "markdown",
   "metadata": {},
   "source": [
    "Just look at how they multiply!"
   ]
  },
  {
   "cell_type": "markdown",
   "metadata": {},
   "source": [
    "# Part 3: The package manager"
   ]
  },
  {
   "cell_type": "markdown",
   "metadata": {},
   "source": [
    "Ok, you've got Anaconda installed! You either cloned an existing environment, ripped an environment configuration off someone else, or built a new environment from scratch.\n",
    "\n",
    "Let's customize it!\n",
    "\n",
    "### `conda install`\n",
    "\n",
    "This is the workhorse: you run this command to install a package."
   ]
  },
  {
   "cell_type": "markdown",
   "metadata": {},
   "source": [
    "![install_sympy](images/install_sympy.png)"
   ]
  },
  {
   "cell_type": "markdown",
   "metadata": {},
   "source": [
    "Note that conda will also determine if any other packages (dependencies) need to be installed in order to install the package you requested. Once you've agreed, just hit \"y\" and the install will proceed.\n",
    "\n",
    "### `conda remove`\n",
    "\n",
    "The opposite of the previous command, this will remove the specified packages from your system (note: it won't outright delete them).\n",
    "\n",
    "Also note: it will, in fact, delete any prerequisites it had to install."
   ]
  },
  {
   "cell_type": "markdown",
   "metadata": {},
   "source": [
    "![remove_sympy](images/remove_sympy.png)"
   ]
  },
  {
   "cell_type": "markdown",
   "metadata": {},
   "source": [
    "### Channels\n",
    "\n",
    "Ok, the last real wrinkle in a conda environment, and where (in my view) conda really gets it power: channels.\n",
    "\n",
    "The philosophy behind conda--an open source package manager not just for Python, but a language-agnostic package manager that worked irrespective of platform, providing fully-built packages for any operating system--was a good one.\n",
    "\n",
    "Problem is, there are *too many platforms* out there to fully satisfy them all. Furthermore, with Anaconda being the ones to have to rebuild the packages and dependency lists any time an updated package under the Anaconda purview was released, it got to be too much work.\n",
    "\n",
    "So they developed the idea of channels: distinct build avenues that even the common user can hook into. You can build a package from scratch with highly customized build options, then put that package into a custom channel.\n",
    "\n",
    "This strategy has reached fever pitch with the [conda-forge project](https://conda-forge.org/)."
   ]
  },
  {
   "cell_type": "markdown",
   "metadata": {},
   "source": [
    "![conda_forge](images/conda_forge.png)"
   ]
  },
  {
   "cell_type": "markdown",
   "metadata": {},
   "source": [
    "The goal of this project is to essentially outsource the building of *all* Python packages to the community, and make them available through the \"conda-forge\" channel.\n",
    "\n",
    "You may have noticed several instances throughout this workshop where the output of certain conda commands contained \"conda-forge\". I am indeed subscribed to this channel, and I highly recommend you do as well. This will give you access to the most recent build recipes, which are often out very shortly after the new version of any given Python package is released; much quicker turnaround than Anaconda's official default channel."
   ]
  },
  {
   "cell_type": "markdown",
   "metadata": {},
   "source": [
    "To subscribe to a channel, you can use the \"conda config\" command:"
   ]
  },
  {
   "cell_type": "markdown",
   "metadata": {},
   "source": [
    "![conda_config](images/conda_config.png)"
   ]
  },
  {
   "cell_type": "markdown",
   "metadata": {},
   "source": [
    "Or, in this case:\n",
    "\n",
    "```\n",
    "conda config --add channels conda-forge\n",
    "```\n",
    "\n",
    "Alternatively, you can install packages directly from channels without needing to be subscribed. You can do this through the \"-c\" flag in the \"conda install\" command:\n",
    "\n",
    "```\n",
    "conda install -c conda-forge scipy\n",
    "```\n",
    "\n",
    "This command will install the latest version of SciPy, but specifically from the conda-forge channel.\n",
    "\n",
    "If you don't specify a channel, conda will automatically select the best matching package from a channel you're subscribed to. **This is not necessarily the default Anaconda channel!** You can actually specify a hierarchy in the channels you're subscribed to--for instance, conda-forge is my highest-level channel, so whenever I do not specify a channel during install, it defaults to conda-forge first before any others.\n",
    "\n",
    "You can find out this hierarchy from the command:\n",
    "\n",
    "```\n",
    "conda config --show-sources\n",
    "```"
   ]
  },
  {
   "cell_type": "markdown",
   "metadata": {},
   "source": [
    "### Keeping your environment up to date\n",
    "\n",
    "The last command to know--and to use frequently--is `conda update`. This will update the specified packages to their latest versions available through the corresponding channel.\n",
    "\n",
    "You can specify a package, e.g.\n",
    "\n",
    "```\n",
    "conda update scikit-learn\n",
    "```\n",
    "\n",
    "Or, you can do the \"catch-all\" to update absolutely everything:\n",
    "\n",
    "```\n",
    "conda update --all\n",
    "```\n",
    "\n",
    "Just be careful with that last one--I've had strange things happen on occasion..."
   ]
  },
  {
   "cell_type": "markdown",
   "metadata": {},
   "source": [
    "# Part zomg: Skip the install entirely, use GitHub+Binder"
   ]
  },
  {
   "cell_type": "markdown",
   "metadata": {},
   "source": [
    "Advantages:\n",
    " - No need to install Python on your computer, at all\n",
    " - All you need is a (modern) web browser and an internet connection\n",
    " - Environments are ephemeral; no need to worry about cleaning up or saving anything"
   ]
  },
  {
   "cell_type": "markdown",
   "metadata": {},
   "source": [
    "Disadvantages:\n",
    " - Need to explicitly state an environment (i.e., specific packages) ahead of time\n",
    " - Build times can be slow (from Lecture 1)\n",
    "   - Any change in the environment will require a re-build from scratch!\n",
    " - Environments are ephemeral; anything you want to keep you'll have to manually save"
   ]
  },
  {
   "cell_type": "markdown",
   "metadata": {},
   "source": [
    "### Create a repository on GitHub"
   ]
  },
  {
   "cell_type": "markdown",
   "metadata": {},
   "source": [
    "Needs three things:\n",
    "\n",
    "1. Repo must be PUBLIC\n",
    "2. Put in any existing code or notebooks you want to run or modify\n",
    "3. Create a configuration / environment file"
   ]
  },
  {
   "cell_type": "markdown",
   "metadata": {},
   "source": [
    "All the configuration files supported by Binder can be found here: https://mybinder.readthedocs.io/en/latest/using/config_files.html#config-files (you can basically have it run any language you want, but it's particularly geared toward Python and R"
   ]
  },
  {
   "cell_type": "markdown",
   "metadata": {},
   "source": [
    "Example repo of mine from Lecture 1, a talk I gave back in 2018: https://github.com/quinngroup/JupyterDay2018-Cilia-Segmentation/\n",
    " - Note the presence of the `environment.yml`; that's the key\n"
   ]
  },
  {
   "cell_type": "markdown",
   "metadata": {},
   "source": [
    "### Where to learn more about `environment.yml`\n",
    "\n",
    "It's the output to `conda env export`!\n",
    "\n",
    "Check out the conda docs on the topic:\n",
    "https://conda.io/projects/conda/en/latest/user-guide/tasks/manage-environments.html#creating-an-environment-file-manually"
   ]
  },
  {
   "cell_type": "markdown",
   "metadata": {},
   "source": [
    "### Load the repo in Binder"
   ]
  },
  {
   "cell_type": "markdown",
   "metadata": {},
   "source": [
    "Once you have everything in the repo (code, configuration/environment, any data you want to play with), navigate to a Binder instance and copy/paste the URL to the repo."
   ]
  },
  {
   "cell_type": "markdown",
   "metadata": {},
   "source": [
    " - 🌎 [MyBinder](https://mybinder.org/)\n",
    " - 🔒 [UGA BinderHub](https://hub.binder.ltg.cs.uga.edu/)"
   ]
  },
  {
   "cell_type": "markdown",
   "metadata": {},
   "source": [
    "(both are powered by identical software and should function identically)"
   ]
  },
  {
   "cell_type": "markdown",
   "metadata": {},
   "source": [
    "# Part 4: Where to learn more\n",
    "\n",
    "There are lots of online resources to learn about the ins and outs of conda. I would specifically point you to the following:\n",
    "\n",
    " - [Official conda docs](https://conda.io/docs/) (duh)\n",
    " - [Myths and Misconceptions](https://jakevdp.github.io/blog/2016/08/25/conda-myths-and-misconceptions/) about conda: a great piece on the conda philosophy\n",
    " - [Mamba](https://mamba.readthedocs.io/en/latest/): a drop-in replacement for conda that has a wicked fast dependency resolver. Give it a try!"
   ]
  },
  {
   "cell_type": "markdown",
   "metadata": {},
   "source": [
    "Happy coding!"
   ]
  }
 ],
 "metadata": {
  "kernelspec": {
   "display_name": "Python 3 (ipykernel)",
   "language": "python",
   "name": "python3"
  },
  "language_info": {
   "codemirror_mode": {
    "name": "ipython",
    "version": 3
   },
   "file_extension": ".py",
   "mimetype": "text/x-python",
   "name": "python",
   "nbconvert_exporter": "python",
   "pygments_lexer": "ipython3",
   "version": "3.10.12"
  },
  "widgets": {
   "state": {},
   "version": "1.1.2"
  }
 },
 "nbformat": 4,
 "nbformat_minor": 2
}
